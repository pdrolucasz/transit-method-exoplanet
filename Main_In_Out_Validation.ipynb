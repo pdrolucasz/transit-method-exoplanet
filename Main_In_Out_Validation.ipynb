{
 "cells": [
  {
   "cell_type": "code",
   "execution_count": null,
   "metadata": {},
   "outputs": [],
   "source": [
    "%matplotlib inline\n",
    "import matplotlib.pyplot as plt\n",
    "import lightkurve as lk"
   ]
  },
  {
   "cell_type": "code",
   "execution_count": null,
   "metadata": {},
   "outputs": [],
   "source": [
    "def plot_in_out_TPF(tpf,  T0):\n",
    "\n",
    "    tpf_list = [tpf.flux.value]\n",
    "    t_list = [tpf.time.value]\n",
    "    T0_list = [T0]\n",
    "    \n",
    "    plt.figure(figsize=(9,2.5*len(T0_list)))\n",
    "\n",
    "    plt.tight_layout()\n",
    "\n",
    "    count = 0 # keep track of how many images have been plotted to that they appear on a subgrid of plots which has three columns\n",
    "\n",
    "    # loop through all of the list of PCA corrected flux vs time arrays for each marked transit-event\n",
    "    for idx, tpf_filt in enumerate(tpf_list): # idx is for each maked transit-event\n",
    "\n",
    "        T0 = T0_list[idx] # the time of the transit-like event\n",
    "        t = t_list[idx] # the time array\n",
    "\n",
    "        intr = abs(T0-t) < 0.25  # create a mask of the in transit times\n",
    "        oot = (abs(T0-t) < 0.5) * (abs(T0-t) < 0.3)  # create a mask of the out of transit times\n",
    "        img_intr = tpf_filt[intr,:,:].sum(axis=0)/float(intr.sum()) # apply the masks and normalize the flux\n",
    "        img_oot = tpf_filt[oot,:,:].sum(axis=0)/float(oot.sum())\n",
    "        img_diff = img_oot-img_intr # calculate the diffefence image (out of transit minus in-transit)\n",
    "\n",
    "        \n",
    "        # ---- PLOT -------\n",
    "\n",
    "        # in transit\n",
    "        count += 1 # add to the count before each plot\n",
    "        plt.subplot(len(T0_list), 3, count)\n",
    "        plt.axis(\"off\")\n",
    "        plt.imshow(img_intr, cmap=plt.cm.viridis, origin = \"lower\")\n",
    "        plt.colorbar()\n",
    "        plt.title(\"t = {} days \\n In Transit Flux (e-/candence)\".format(T0), fontsize = 9 )\n",
    "\n",
    "        # out of transit\n",
    "        count += 1\n",
    "        plt.subplot(len(T0_list), 3, count)\n",
    "        plt.axis(\"off\")\n",
    "        plt.imshow(img_oot, cmap=plt.cm.viridis, origin = \"lower\")\n",
    "        plt.colorbar()\n",
    "        plt.title(\"Out of Transit Flux (e-/candence)\", fontsize = 9 )\n",
    "\n",
    "        # out of transit minus in-transit\n",
    "        count += 1\n",
    "        plt.subplot(len(T0_list), 3, count)\n",
    "        plt.axis(\"off\")\n",
    "        plt.imshow(img_diff, cmap=plt.cm.viridis, origin = \"lower\")\n",
    "        plt.colorbar()\n",
    "        plt.title(\"Difference Flux (e-/candence)\", fontsize = 9 )\n",
    "\n",
    "\n",
    "    plt.subplots_adjust(wspace = 0)\n",
    "    plt.tight_layout()\n",
    "    plt.show()\n",
    "    "
   ]
  },
  {
   "cell_type": "code",
   "execution_count": null,
   "metadata": {},
   "outputs": [],
   "source": [
    "TIC = \"TIC 55525572\"\n",
    "\n",
    "search_result = lk.search_targetpixelfile(TIC, author=\"SPOC\", sector = 5)\n",
    "tpf = search_result.download()\n",
    "\n",
    "sector_data = lk.search_lightcurve(TIC, author = \"SPOC\", sector = 5)\n",
    "\n",
    "lc = sector_data.download()\n",
    "lc.plot(linewidth = 0, marker = \".\", color = \"black\", alpha = 0.3)\n",
    "plt.show()"
   ]
  },
  {
   "cell_type": "code",
   "execution_count": null,
   "metadata": {},
   "outputs": [],
   "source": [
    "T0 = 1454.663794\n",
    "\n",
    "plot_in_out_TPF(tpf, T0)"
   ]
  },
  {
   "cell_type": "code",
   "execution_count": null,
   "metadata": {},
   "outputs": [],
   "source": []
  }
 ],
 "metadata": {
  "anaconda-cloud": {},
  "kernelspec": {
   "display_name": "Python 3 (ipykernel)",
   "language": "python",
   "name": "python3"
  },
  "language_info": {
   "codemirror_mode": {
    "name": "ipython",
    "version": 3
   },
   "file_extension": ".py",
   "mimetype": "text/x-python",
   "name": "python",
   "nbconvert_exporter": "python",
   "pygments_lexer": "ipython3",
   "version": "3.12.7"
  }
 },
 "nbformat": 4,
 "nbformat_minor": 4
}
