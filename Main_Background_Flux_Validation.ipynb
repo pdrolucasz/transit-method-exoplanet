{
 "cells": [
  {
   "cell_type": "code",
   "execution_count": null,
   "id": "5af1cee4-c63e-4d5a-ae18-2bd309dbc329",
   "metadata": {},
   "outputs": [],
   "source": [
    "%matplotlib inline\n",
    "import matplotlib.pyplot as plt\n",
    "import lightkurve as lk"
   ]
  },
  {
   "cell_type": "code",
   "execution_count": null,
   "id": "ead3ecc2-dfd0-4a70-9dfb-6462a8dc3e09",
   "metadata": {},
   "outputs": [],
   "source": [
    "def background_flux_plot(lc, transit_time):\n",
    "    try:\n",
    "        lc = lc.normalize()\n",
    "    except:\n",
    "        lc = lc.stitch()\n",
    "    \n",
    "    fig, ax = plt.subplots(figsize = (8,4))\n",
    "\n",
    "    ax.axvline(transit_time, color = \"orange\", zorder = -1)\n",
    "    lc.plot(ax = ax, linewidth = 0, marker = \".\", color = \"limegreen\", alpha = 0.3)\n",
    "    lc.bin(20/24/60).plot(ax = ax, linewidth = 0, marker = \".\", ms = 2, color = \"darkslategrey\", alpha = 1)\n",
    "    \n",
    "    # generate a mask so that we only see the times around the transit event\n",
    "    transit_mask = (lc.time.value > transit_time - 0.5) & (lc.time.value < transit_time + 0.5)\n",
    "    \n",
    "    # make a plot with two panels so that we can see the lightcurve and the backgroudn flux next to one another\n",
    "    fig, ax = plt.subplots(2,1, sharex = True)\n",
    "    \n",
    "    ax[0].plot(lc.time.value[transit_mask], lc.sap_flux.value[transit_mask], color = \"darkslategrey\", lw = 0, marker = \".\", ms = 2)\n",
    "    ax[1].plot(lc.time.value[transit_mask], lc.sap_bkg.value[transit_mask], color = \"blue\", lw = 0, marker = \".\", ms = 2)\n",
    "\n",
    "    #plot a line at the time of the transit event\n",
    "    ax[0].axvline(transit_time, color = \"orange\", zorder = -1)\n",
    "    ax[1].axvline(transit_time, color = \"orange\", zorder = -1)\n",
    "    \n",
    "    ax[0].set_ylabel(\"Flux\")\n",
    "    ax[1].set_ylabel(\"Background flux\")\n",
    "    ax[1].set_xlabel(\"Time (TJD)\")\n",
    "\n",
    "    plt.suptitle(\"(b) TIC 408000326 - Setor 5\",y=0.98, fontsize = 12)\n",
    "    plt.savefig(\"2.png\", dpi=300, bbox_inches='tight')\n",
    "    plt.show()"
   ]
  },
  {
   "cell_type": "code",
   "execution_count": null,
   "id": "3ad8a737-32ad-47ec-b0aa-2b995cac7f84",
   "metadata": {},
   "outputs": [],
   "source": [
    "sector_data = lk.search_lightcurve(\"TIC 55525572\", author = \"SPOC\", sector = 5)\n",
    "try:\n",
    "    lc = sector_data.download_all()\n",
    "except:\n",
    "    lc = sector_data.download()"
   ]
  },
  {
   "cell_type": "code",
   "execution_count": null,
   "id": "3c46f6db-53fa-4acc-8e7b-96aca4ac7df8",
   "metadata": {},
   "outputs": [],
   "source": [
    "background_flux_plot(lc = lc, transit_time = 1454.663794)"
   ]
  },
  {
   "cell_type": "code",
   "execution_count": null,
   "id": "4b5ee8b6-4cba-4593-9da3-efab5984fe6e",
   "metadata": {},
   "outputs": [],
   "source": []
  }
 ],
 "metadata": {
  "kernelspec": {
   "display_name": "Python 3 (ipykernel)",
   "language": "python",
   "name": "python3"
  },
  "language_info": {
   "codemirror_mode": {
    "name": "ipython",
    "version": 3
   },
   "file_extension": ".py",
   "mimetype": "text/x-python",
   "name": "python",
   "nbconvert_exporter": "python",
   "pygments_lexer": "ipython3",
   "version": "3.12.7"
  }
 },
 "nbformat": 4,
 "nbformat_minor": 5
}
