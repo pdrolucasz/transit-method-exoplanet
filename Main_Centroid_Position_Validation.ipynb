{
 "cells": [
  {
   "cell_type": "code",
   "execution_count": null,
   "metadata": {},
   "outputs": [],
   "source": [
    "%matplotlib inline\n",
    "import matplotlib.pyplot as plt\n",
    "import lightkurve as lk\n",
    "import numpy as np"
   ]
  },
  {
   "cell_type": "code",
   "execution_count": null,
   "metadata": {},
   "outputs": [],
   "source": [
    "def plot_centroids(lc, transit_time=None, window=None):\n",
    "        \n",
    "    # bin the data \n",
    "    lc_bin = lc.bin(7/60/24)\n",
    "    \n",
    "    # generate a mask so that we only see the times around the transit event\n",
    "    if (window == None) or (transit_time == None):\n",
    "        transit_mask = lc_bin.time.value > 0\n",
    "    else:\n",
    "        transit_mask = (lc_bin.time.value > transit_time - window) & (lc_bin.time.value < transit_time + window)\n",
    "        \n",
    "    # make a plot with three panels so that we can see the lightcurve and the centroid positions \n",
    "    fig, ax = plt.subplots(3,1, figsize = (8,5), sharex= True)\n",
    "    \n",
    "    # plot the lightcurve in the top panel (in orange) \n",
    "    ax[0].plot(lc_bin.time.value[transit_mask], lc_bin.sap_flux.value[transit_mask], color = \"darkorange\", lw = 0, marker = \".\", ms = 3)\n",
    "    \n",
    "    # plot the centroid motions in the column direction in the middle panel\n",
    "    ax[1].plot(lc_bin.time.value[transit_mask], lc_bin.mom_centr1.value[transit_mask]-np.nanmean(lc_bin.mom_centr1.value[transit_mask]), color = \"black\", lw = 0, marker = \".\", ms = 2, alpha = 0.5)\n",
    "    ax[1].plot(lc_bin.time.value[transit_mask], lc_bin.pos_corr1.value[transit_mask]-np.nanmean(lc_bin.pos_corr1.value[transit_mask]), color = \"red\", lw = 0, marker = \".\", ms = 2, alpha = 0.5)\n",
    "    \n",
    "    # plot the centroid motions in the row direction in the middle panel\n",
    "    ax[2].plot(lc_bin.time.value[transit_mask], lc_bin.mom_centr2.value[transit_mask] - np.nanmedian(lc_bin.mom_centr2.value[transit_mask]), color = \"black\", lw = 0, marker = \".\", ms = 2, alpha = 0.5, label = \"Brightness motion\")\n",
    "    ax[2].plot(lc_bin.time.value[transit_mask], lc_bin.pos_corr2.value[transit_mask]- np.nanmedian(lc_bin.pos_corr2.value[transit_mask]), color = \"red\", lw = 0, marker = \".\", ms = 2, alpha = 0.5, label = \"Satellite motion\")\n",
    "    \n",
    "    if (transit_time != None):\n",
    "        # draw a vertical line at the time of the transit event \n",
    "        ax[0].axvline(transit_time, color = \"grey\", zorder = -1)\n",
    "        ax[1].axvline(transit_time, color = \"grey\", zorder = -1)\n",
    "        ax[2].axvline(transit_time, color = \"grey\", zorder = -1)\n",
    "    \n",
    "    # label the axes\n",
    "    ax[0].set_ylabel(\"Flux\")\n",
    "    ax[1].set_ylabel(\"Column position\")\n",
    "    ax[2].set_ylabel(\"Row position\")\n",
    "    plt.xlabel(\"Time (TJD)\")\n",
    "    \n",
    "    if (window != None) and (transit_time != None):   \n",
    "        plt.xlim(transit_time - window, transit_time + window)\n",
    "        \n",
    "    plt.suptitle(\"(b) TIC 55525572 - Setor 12\",y=0.98, fontsize = 12)\n",
    "    plt.tight_layout()\n",
    "    plt.legend()\n",
    "    plt.savefig(\"figura_alta_qualidade.png\", dpi=300, bbox_inches='tight')\n",
    "    plt.show()"
   ]
  },
  {
   "cell_type": "code",
   "execution_count": null,
   "metadata": {},
   "outputs": [],
   "source": [
    "sector_data = lk.search_lightcurve(\"TIC 55525572\", author = \"SPOC\", sector = 12)\n",
    "lc = sector_data.download()\n",
    "\n",
    "lc.plot(linewidth = 0, marker = \".\", color = \"black\", alpha = 0.3)\n",
    "plt.show()"
   ]
  },
  {
   "cell_type": "code",
   "execution_count": null,
   "metadata": {},
   "outputs": [],
   "source": [
    "# bin the data (watch previous episode on binning)\n",
    "lc_bin = lc.bin(7/60/24)\n",
    "\n",
    "# set up the plotting region\n",
    "fig, ax = plt.subplots(2,1, figsize = (8,5), sharex= True)\n",
    "\n",
    "# plot the two different centroid motions in the column and row positions\n",
    "ax[0].plot(lc_bin.time.value, lc_bin.mom_centr1.value-np.nanmean(lc_bin.mom_centr1.value), color = \"black\", lw = 0, marker = \".\", ms = 1)\n",
    "ax[0].plot(lc_bin.time.value, lc_bin.pos_corr1.value-np.nanmean(lc_bin.pos_corr1.value), color = \"red\", lw = 0, marker = \".\", ms = 1)\n",
    "\n",
    "ax[1].plot(lc_bin.time.value, lc_bin.mom_centr2.value - np.nanmedian(lc_bin.mom_centr2.value), color = \"black\", lw = 0, marker = \".\", ms = 1, label = \"Brightness motion\")\n",
    "ax[1].plot(lc_bin.time.value, lc_bin.pos_corr2.value- np.nanmedian(lc_bin.pos_corr2.value), color = \"red\", lw = 0, marker = \".\", ms = 1, label = \"Satellite motion\")\n",
    "\n",
    "# define the axis labels\n",
    "ax[0].set_ylabel(\"Column position\")\n",
    "ax[1].set_ylabel(\"Row position\")\n",
    "plt.xlabel(\"Time (TJD)\")\n",
    "plt.legend()\n",
    "plt.tight_layout()\n",
    "plt.show()"
   ]
  },
  {
   "cell_type": "code",
   "execution_count": null,
   "metadata": {},
   "outputs": [],
   "source": [
    "# define the transit time\n",
    "transit_time = 1632.548794\n",
    "# and the cut out region \n",
    "window = 1\n",
    "\n",
    "plot_centroids(lc, transit_time)#, window)"
   ]
  },
  {
   "cell_type": "code",
   "execution_count": null,
   "metadata": {},
   "outputs": [],
   "source": []
  }
 ],
 "metadata": {
  "anaconda-cloud": {},
  "kernelspec": {
   "display_name": "Python 3 (ipykernel)",
   "language": "python",
   "name": "python3"
  },
  "language_info": {
   "codemirror_mode": {
    "name": "ipython",
    "version": 3
   },
   "file_extension": ".py",
   "mimetype": "text/x-python",
   "name": "python",
   "nbconvert_exporter": "python",
   "pygments_lexer": "ipython3",
   "version": "3.12.7"
  }
 },
 "nbformat": 4,
 "nbformat_minor": 4
}
