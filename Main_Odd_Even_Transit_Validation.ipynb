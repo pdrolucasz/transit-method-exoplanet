{
 "cells": [
  {
   "cell_type": "code",
   "execution_count": null,
   "metadata": {},
   "outputs": [],
   "source": [
    "%matplotlib inline\n",
    "import matplotlib.pyplot as plt\n",
    "import lightkurve as lk\n",
    "import numpy as np"
   ]
  },
  {
   "cell_type": "code",
   "execution_count": null,
   "metadata": {},
   "outputs": [],
   "source": [
    "def odd_even_phase(lc, period, t0, plot_size = False, same_axes = False, binning = False):\n",
    "    \n",
    "    lc = lc.normalize()\n",
    "    \n",
    "    if binning != False:\n",
    "        lc = lc.bin(binning/60/24) # you can change the binning factor here if you like\n",
    "    time = lc.time.value\n",
    "    flux = lc.flux.value\n",
    "    \n",
    "    t0_odd = t0\n",
    "    t0_even = t0 + period\n",
    "    period = period*2\n",
    "    \n",
    "    phase_odd = np.array([-0.5+( ( t - t0_odd-0.5*period) % period) / period for t in time])\n",
    "    phase_even = np.array([-0.5+( ( t - t0_even-0.5*period) % period) / period for t in time])\n",
    "\n",
    "    if same_axes == False:\n",
    "        fig, ax = plt.subplots(1,2, figsize = (10,4), sharey = True)\n",
    "        \n",
    "        ax[0].plot(phase_odd, flux, lw = 0, color = \"navy\", marker = \".\", alpha =0.4)\n",
    "        ax[1].plot(phase_even, flux, lw = 0, color = \"maroon\", marker = \".\", alpha =0.4)\n",
    "        \n",
    "        ax[0].set_xlabel(\"Phase\")\n",
    "        ax[0].set_ylabel(\"Normalized flux\")\n",
    "        ax[1].set_xlabel(\"Phase\")\n",
    "        \n",
    "        ax[0].annotate(\"ODD\", (0.3, np.nanmin(flux)), fontsize = 14)\n",
    "        ax[1].annotate(\"EVEN\", (0.3, np.nanmin(flux)), fontsize = 14)\n",
    "    \n",
    "        plt.subplots_adjust(wspace=0.02)\n",
    "        \n",
    "        if plot_size != False:\n",
    "            ax[0].set_xlim(-plot_size, plot_size)\n",
    "            ax[1].set_xlim(-plot_size, plot_size)\n",
    "    else:\n",
    "        fig, ax = plt.subplots(figsize = (4,4))\n",
    "        \n",
    "        ax.plot(phase_odd, flux, lw = 0, color = \"navy\", marker = \".\", alpha =0.4, label = \"odd\")\n",
    "        ax.plot(phase_even, flux, lw = 0, color = \"maroon\", marker = \".\", alpha =0.4, label = \"even\")\n",
    "        \n",
    "        ax.set_xlabel(\"Phase\")\n",
    "        ax.set_ylabel(\"Normalized flux\")\n",
    "        \n",
    "        plt.legend()\n",
    "            \n",
    "        if plot_size != False:\n",
    "            ax.set_xlim(-plot_size, plot_size)\n",
    "\n",
    "    plt.savefig(\"1.png\", dpi=300, bbox_inches=\"tight\")\n",
    "    plt.show()\n"
   ]
  },
  {
   "cell_type": "code",
   "execution_count": null,
   "metadata": {},
   "outputs": [],
   "source": [
    "TIC = \"TIC 35101462\"\n",
    "sector_data = lk.search_lightcurve(TIC, author = \"SPOC\", sector = 4)\n",
    "\n",
    "lc = sector_data.download()\n"
   ]
  },
  {
   "cell_type": "code",
   "execution_count": null,
   "metadata": {},
   "outputs": [],
   "source": [
    "# plot the lightcurve to see what it looks like\n",
    "lc.plot(lw = 0, color = \"maroon\", marker = \"o\")\n",
    "plt.show()"
   ]
  },
  {
   "cell_type": "markdown",
   "metadata": {},
   "source": [
    "## Parameters we can change for the plotting: \n",
    "\n",
    "- **lc**: the lightcurve extracted using the lightkurve took (required)\n",
    "- **period**: period of the signal, i.e. time between consecutive dips (required)\n",
    "- **t0**: time of one of the transit-events (required)\n",
    "- **plot_size**: ± x axis limits (to zoom in on the time of the transit)\n",
    "- **same_axes**: plot the odd and even transits on the same figure\n",
    "- **binning**: number of minutes you want to bin the data to\n"
   ]
  },
  {
   "cell_type": "code",
   "execution_count": null,
   "metadata": {},
   "outputs": [],
   "source": [
    "period = 2.085\n",
    "t0 = 1413.837968\n",
    "\n",
    "odd_even_phase(lc, period, t0, plot_size = 0.1)\n",
    "#odd_even_phase(lc, period, t0, plot_size = 0.05,  same_axes = True, binning = 15)"
   ]
  },
  {
   "cell_type": "code",
   "execution_count": null,
   "metadata": {},
   "outputs": [],
   "source": []
  }
 ],
 "metadata": {
  "anaconda-cloud": {},
  "kernelspec": {
   "display_name": "Python 3 (ipykernel)",
   "language": "python",
   "name": "python3"
  },
  "language_info": {
   "codemirror_mode": {
    "name": "ipython",
    "version": 3
   },
   "file_extension": ".py",
   "mimetype": "text/x-python",
   "name": "python",
   "nbconvert_exporter": "python",
   "pygments_lexer": "ipython3",
   "version": "3.12.7"
  }
 },
 "nbformat": 4,
 "nbformat_minor": 4
}
